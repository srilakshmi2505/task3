{
 "cells": [
  {
   "cell_type": "code",
   "execution_count": 2,
   "id": "caacb773-b4c9-41be-aa06-88082cae854f",
   "metadata": {},
   "outputs": [
    {
     "name": "stdout",
     "output_type": "stream",
     "text": [
      "This: ['is', 'is']\n",
      "is: ['a', 'another', 'a']\n",
      "a: ['sample', 'complex']\n",
      "sample: ['sentence.']\n",
      "another: ['example']\n",
      "example: ['sentence.']\n",
      "Markov: ['chains']\n",
      "chains: ['are']\n",
      "are: ['fascinating.']\n",
      "They: ['can']\n",
      "can: ['generate']\n",
      "generate: ['interesting']\n",
      "interesting: ['text.']\n",
      "The: ['more']\n",
      "more: ['data']\n",
      "data: ['you']\n",
      "you: ['provide,']\n",
      "provide,: ['the']\n",
      "the: ['better', 'output.']\n",
      "better: ['the']\n",
      "Natural: ['language']\n",
      "language: ['processing']\n",
      "processing: ['is']\n",
      "complex: ['field.']\n",
      "Generated Sentence: interesting text.\n"
     ]
    }
   ],
   "source": [
    "import random\n",
    "import re\n",
    "from collections import defaultdict\n",
    "\n",
    "class MarkovChain:\n",
    "    def __init__(self):\n",
    "        self.chain = defaultdict(list)\n",
    "\n",
    "    def add_sentence(self, sentence):\n",
    "        words = sentence.split()\n",
    "        for i in range(len(words) - 1):\n",
    "            self.chain[words[i]].append(words[i + 1])\n",
    "\n",
    "    def generate_sentence(self, length=10):\n",
    "        word = random.choice(list(self.chain.keys()))\n",
    "        sentence = [word]\n",
    "\n",
    "        for _ in range(length - 1):\n",
    "            next_words = self.chain.get(word, None)\n",
    "            if not next_words:\n",
    "                break\n",
    "            word = random.choice(next_words)\n",
    "            sentence.append(word)\n",
    "\n",
    "        return ' '.join(sentence)\n",
    "\n",
    "# Example usage\n",
    "if __name__ == \"__main__\":\n",
    "    markov = MarkovChain()\n",
    "    text = (\n",
    "        \"This is a sample sentence. \"\n",
    "        \"This is another example sentence. \"\n",
    "        \"Markov chains are fascinating. \"\n",
    "        \"They can generate interesting text. \"\n",
    "        \"The more data you provide, the better the output. \"\n",
    "        \"Natural language processing is a complex field.\"\n",
    "    )\n",
    "    \n",
    "    sentences = re.split(r'(?<=[.!?]) +', text)\n",
    "    \n",
    "    for sentence in sentences:\n",
    "        markov.add_sentence(sentence.strip())\n",
    "\n",
    "    # Debugging: Print the chain\n",
    "    for key, value in markov.chain.items():\n",
    "        print(f\"{key}: {value}\")\n",
    "\n",
    "    generated_sentence = markov.generate_sentence(10)\n",
    "    print(\"Generated Sentence:\", generated_sentence)"
   ]
  },
  {
   "cell_type": "code",
   "execution_count": null,
   "id": "87714b6c-5977-404e-8c85-a215e4146ac8",
   "metadata": {},
   "outputs": [],
   "source": []
  }
 ],
 "metadata": {
  "kernelspec": {
   "display_name": "Python 3 (ipykernel)",
   "language": "python",
   "name": "python3"
  },
  "language_info": {
   "codemirror_mode": {
    "name": "ipython",
    "version": 3
   },
   "file_extension": ".py",
   "mimetype": "text/x-python",
   "name": "python",
   "nbconvert_exporter": "python",
   "pygments_lexer": "ipython3",
   "version": "3.12.7"
  }
 },
 "nbformat": 4,
 "nbformat_minor": 5
}
